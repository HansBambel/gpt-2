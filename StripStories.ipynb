{
 "cells": [
  {
   "cell_type": "code",
   "execution_count": 36,
   "metadata": {
    "scrolled": false
   },
   "outputs": [],
   "source": [
    "import csv\n",
    "import re\n",
    "\n",
    "# The story file is expected to be tab delimited\n",
    "fromFile = \"storyville\"\n",
    "\n",
    "with open(f\"{fromFile}.txt\", \"r\", encoding=\"utf-8\") as f:\n",
    "    stories = csv.reader(f, delimiter=\"\\t\")\n",
    "    with open(f\"{fromFile}Stripped.txt\", \"w\", encoding=\"utf-8\") as newF:\n",
    "        for storyID, story in enumerate(stories):\n",
    "#             print(f\"Story ID: {storyID}\")\n",
    "            storyNoIntro = story[1:]\n",
    "            # Get rid of linespace\n",
    "            storyNoIntro.pop(1)\n",
    "\n",
    "            # get rid of actions and write to file\n",
    "            for lineID, line in enumerate(storyNoIntro):\n",
    "                lineStripped = re.sub(\"{.*}\", \"\", line)\n",
    "                lineStripped = re.sub(\"\\[.*\\]\", \"\", lineStripped)\n",
    "#                 print(lineID, lineStripped)\n",
    "                newF.write(lineStripped+\"\\n\")\n",
    "            newF.write(\"<|endoftext|>\\n\")\n",
    "#             print(\"<|endoftext|>\")\n"
   ]
  }
 ],
 "metadata": {
  "kernelspec": {
   "display_name": "Python 3",
   "language": "python",
   "name": "python3"
  },
  "language_info": {
   "codemirror_mode": {
    "name": "ipython",
    "version": 3
   },
   "file_extension": ".py",
   "mimetype": "text/x-python",
   "name": "python",
   "nbconvert_exporter": "python",
   "pygments_lexer": "ipython3",
   "version": "3.7.3"
  }
 },
 "nbformat": 4,
 "nbformat_minor": 2
}
