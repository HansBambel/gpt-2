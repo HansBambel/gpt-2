{
 "cells": [
  {
   "cell_type": "code",
   "execution_count": 2,
   "metadata": {
    "scrolled": false
   },
   "outputs": [],
   "source": [
    "import csv\n",
    "import re\n",
    "\n",
    "def cleanAndWriteStory(story, file):\n",
    "    storyNoIntro = story[1:]\n",
    "    # Get rid of linespace\n",
    "    storyNoIntro.pop(1)\n",
    "\n",
    "    # get rid of actions and write to file\n",
    "    for lineID, line in enumerate(storyNoIntro):\n",
    "        lineStripped = re.sub(\"{.*}\", \"\", line)\n",
    "        lineStripped = re.sub(\"\\[.*\\]\", \"\", lineStripped)\n",
    "        newF.write(lineStripped+\"\\n\")\n",
    "    newF.write(\"<|endoftext|>\\n\")\n",
    "    \n",
    "# The story file is expected to be tab delimited\n",
    "fromFile = \"storyville\"\n",
    "n = 10000\n",
    "createSingleFile = False\n",
    "with open(f\"data/{fromFile}.txt\", \"r\", encoding=\"utf-8\") as f:\n",
    "    stories = csv.reader(f, delimiter=\"\\t\")\n",
    "    \n",
    "    if createSingleFile:\n",
    "        with open(f\"data/{fromFile}Stripped.txt\", \"r\", encoding=\"utf-8\") as newF:\n",
    "            for storyID, story in enumerate(stories):\n",
    "                cleanAndWriteStory(story, newF)\n",
    "    else:\n",
    "        i = -1\n",
    "        for storyID, story in enumerate(stories):\n",
    "            if storyID%n == 0:\n",
    "                i += 1\n",
    "            # appends the stories to the files. When creating new stories delete the files in the stories folder\n",
    "            with open(f\"data/stories/{fromFile}Stripped{i}.txt\", \"a\", encoding=\"utf-8\") as newF:\n",
    "                cleanAndWriteStory(story, newF)\n",
    "\n",
    "# A single stripped file ended up being 1.5GB and resulted in a memory error when calculating its BPE\n",
    "# Hopefully splitting the stories into multiple files does not produce a OOM error."
   ]
  }
 ],
 "metadata": {
  "kernelspec": {
   "display_name": "Python 3",
   "language": "python",
   "name": "python3"
  },
  "language_info": {
   "codemirror_mode": {
    "name": "ipython",
    "version": 3
   },
   "file_extension": ".py",
   "mimetype": "text/x-python",
   "name": "python",
   "nbconvert_exporter": "python",
   "pygments_lexer": "ipython3",
   "version": "3.7.3"
  }
 },
 "nbformat": 4,
 "nbformat_minor": 2
}
