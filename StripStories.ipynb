{
 "cells": [
  {
   "cell_type": "code",
   "execution_count": 13,
   "metadata": {
    "scrolled": false
   },
   "outputs": [
    {
     "data": {
      "application/vnd.jupyter.widget-view+json": {
       "model_id": "4c40afad3c69496e9bd54e0ff0d70979",
       "version_major": 2,
       "version_minor": 0
      },
      "text/plain": [
       "HBox(children=(IntProgress(value=0, description='Stories', max=504101, style=ProgressStyle(description_width='…"
      ]
     },
     "metadata": {},
     "output_type": "display_data"
    },
    {
     "name": "stdout",
     "output_type": "stream",
     "text": [
      "\n"
     ]
    }
   ],
   "source": [
    "import csv\n",
    "import re\n",
    "from tqdm import tqdm_notebook\n",
    "\n",
    "def cleanAndWriteStory(story, file):\n",
    "    storyNoIntro = story[1:]\n",
    "    # Get rid of linespace\n",
    "    storyNoIntro.pop(1)\n",
    "\n",
    "    # get rid of actions and write to file\n",
    "    for lineID, line in enumerate(storyNoIntro):\n",
    "        lineStripped = re.sub(r\"{.*}\", \"\", line)\n",
    "        lineStripped = re.sub(r\"\\[.*\\]\", \"\", lineStripped)\n",
    "        # only keep the narrator's lines (scealextric_paragraphs)\n",
    "#         lineStripped = re.sub(r\"[AB]:.*(N:)\", \"\", lineStripped)\n",
    "#         lineStripped = re.sub(r\"\\|.*\", \"\", lineStripped)\n",
    "#         # Narrator's lines\n",
    "#         lineStripped = re.sub(r\"N:(.*)\", \"\\g<1>.\", lineStripped)\n",
    "        # put every character on a new line (needed for scealextric_linebreaks)\n",
    "        lineStripped = lineStripped.replace(\":\", \": \")\n",
    "        lineStripped = lineStripped.replace(\"|\", \".\\n\")\n",
    "        lineStripped = lineStripped.replace(\"?.\", \"?\")\n",
    "        if lineID == 0:\n",
    "            lineStripped = re.sub(r\"(.;)(.)\", \"\\g<1> \\g<2>\", lineStripped)\n",
    "#             file.write(lineStripped + \"\\n\")\n",
    "#         else:\n",
    "#             file.write(lineStripped + \" \")\n",
    "        file.write(lineStripped + \"\\n\")\n",
    "    file.write(\"<|endoftext|>\\n\")\n",
    "    \n",
    "# The story file is expected to be tab delimited\n",
    "fromFile = \"storyville\"\n",
    "n = 10000\n",
    "# A single file may be too big to fit in memory, if so: create smaller files\n",
    "createSingleFile = False\n",
    "with open(f\"data/{fromFile}.txt\", \"r\", encoding=\"utf-8\") as f:\n",
    "    stories = csv.reader(f, delimiter=\"\\t\")\n",
    "    \n",
    "    if createSingleFile:\n",
    "        with open(f\"data/{fromFile}Stripped.txt\", \"w\", encoding=\"utf-8\") as newF:\n",
    "            for storyID, story in enumerate(stories):\n",
    "                cleanAndWriteStory(story, newF)\n",
    "    else:\n",
    "        i = -1\n",
    "        for storyID, story in enumerate(tqdm_notebook(stories, desc=\"Stories\", total=504101)):\n",
    "            if storyID%n == 0:\n",
    "                i += 1\n",
    "            # appends the stories to the files. When creating new stories delete the files in the stories folder\n",
    "            with open(f\"data/stories_scealextric_linebreaks/{fromFile}Stripped{i}.txt\", \"a\", encoding=\"utf-8\") as newF:\n",
    "                cleanAndWriteStory(story, newF)\n",
    "\n",
    "# A single stripped file ended up being 1.5GB and resulted in a memory error when calculating its BPE\n",
    "# Hopefully splitting the stories into multiple files does not produce a OOM error."
   ]
  }
 ],
 "metadata": {
  "kernelspec": {
   "display_name": "Python 3",
   "language": "python",
   "name": "python3"
  },
  "language_info": {
   "codemirror_mode": {
    "name": "ipython",
    "version": 3
   },
   "file_extension": ".py",
   "mimetype": "text/x-python",
   "name": "python",
   "nbconvert_exporter": "python",
   "pygments_lexer": "ipython3",
   "version": "3.7.3"
  }
 },
 "nbformat": 4,
 "nbformat_minor": 2
}
